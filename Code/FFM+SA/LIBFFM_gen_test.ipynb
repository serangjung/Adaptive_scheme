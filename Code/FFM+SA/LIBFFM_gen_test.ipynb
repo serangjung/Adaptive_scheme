{
 "cells": [
  {
   "cell_type": "code",
   "execution_count": 1,
   "id": "7baf17af-a21b-492d-b731-ca92103bbef9",
   "metadata": {},
   "outputs": [],
   "source": [
    "import numpy as np"
   ]
  },
  {
   "cell_type": "code",
   "execution_count": 15,
   "id": "98749bdb-0abc-431a-9412-e8797c8b4a65",
   "metadata": {},
   "outputs": [],
   "source": [
    "def LIBFFM_generator(data):\n",
    "    #input = txt file\n",
    "    \n",
    "    import numpy as np\n",
    "    import pandas as pd\n",
    "\n",
    "    training_data = pd.read_csv(data+\".txt\",sep=' ',header=None)\n",
    "    training_data = training_data.values.astype(np.float32)\n",
    "    print(training_data)\n",
    "\n",
    "    num_of_feature = len(training_data[0])-1\n",
    "    num_of_thickness_bit = 6\n",
    "    num_of_material_field = int((num_of_feature-num_of_thickness_bit)/2)\n",
    "\n",
    "    thickness_field = np.zeros(num_of_thickness_bit)\n",
    "    numbers = np.repeat(np.arange(1, num_of_material_field+1), 2)\n",
    "\n",
    "    output_file = data+\"_LIBFFM.txt\"\n",
    "    print(output_file)\n",
    "    with open(output_file, 'w') as f_out:\n",
    "            for row in training_data:\n",
    "                target_variable = row[0]\n",
    "                features = []\n",
    "    \n",
    "                # Specify fields\n",
    "                field_mapping = np.concatenate((thickness_field,numbers))\n",
    "                for i, (feature_value, field) in enumerate(zip(row[1:], field_mapping), start=0):\n",
    "                    features.append((field, i, feature_value))\n",
    "    \n",
    "                line = f'{target_variable} ' + ' '.join([f'{int(field)}:{feature}:{int(value)}' for (field, feature, value) in features]) + '\\n'\n",
    "                f_out.write(line)"
   ]
  },
  {
   "cell_type": "code",
   "execution_count": 16,
   "id": "0421b6c8-6c4c-48be-b072-baec98752051",
   "metadata": {},
   "outputs": [
    {
     "name": "stdout",
     "output_type": "stream",
     "text": [
      "[[0.6415426  0.         1.         ... 0.         0.         1.        ]\n",
      " [0.909244   1.         1.         ... 0.         1.         0.        ]\n",
      " [0.6663049  0.         1.         ... 1.         1.         0.        ]\n",
      " ...\n",
      " [0.68852335 1.         1.         ... 0.         0.         1.        ]\n",
      " [0.5921242  0.         0.         ... 1.         0.         0.        ]\n",
      " [0.76559347 1.         0.         ... 1.         1.         0.        ]]\n",
      "test_start_FM_Digit_bat1_25_LIBFFM.txt\n"
     ]
    }
   ],
   "source": [
    "LIBFFM_generator(\"test_start_FM_Digit_bat1_25\")"
   ]
  },
  {
   "cell_type": "code",
   "execution_count": null,
   "id": "93f3b270-5b9f-4879-a5c6-e3b3e7b84d19",
   "metadata": {},
   "outputs": [],
   "source": []
  }
 ],
 "metadata": {
  "kernelspec": {
   "display_name": "Python 3 (ipykernel)",
   "language": "python",
   "name": "python3"
  },
  "language_info": {
   "codemirror_mode": {
    "name": "ipython",
    "version": 3
   },
   "file_extension": ".py",
   "mimetype": "text/x-python",
   "name": "python",
   "nbconvert_exporter": "python",
   "pygments_lexer": "ipython3",
   "version": "3.9.17"
  }
 },
 "nbformat": 4,
 "nbformat_minor": 5
}
